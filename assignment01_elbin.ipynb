{
  "nbformat": 4,
  "nbformat_minor": 0,
  "metadata": {
    "colab": {
      "provenance": [],
      "authorship_tag": "ABX9TyNA/O9Mjc4AJInxlWvgPwoE",
      "include_colab_link": true
    },
    "kernelspec": {
      "name": "python3",
      "display_name": "Python 3"
    },
    "language_info": {
      "name": "python"
    }
  },
  "cells": [
    {
      "cell_type": "markdown",
      "metadata": {
        "id": "view-in-github",
        "colab_type": "text"
      },
      "source": [
        "<a href=\"https://colab.research.google.com/github/elbintreejo/ict-assignment/blob/main/assignment01_elbin.ipynb\" target=\"_parent\"><img src=\"https://colab.research.google.com/assets/colab-badge.svg\" alt=\"Open In Colab\"/></a>"
      ]
    },
    {
      "cell_type": "markdown",
      "source": [
        "1"
      ],
      "metadata": {
        "id": "rHRWo1kg4AO9"
      }
    },
    {
      "cell_type": "code",
      "execution_count": null,
      "metadata": {
        "colab": {
          "base_uri": "https://localhost:8080/"
        },
        "id": "N2KvGXcAVUvf",
        "outputId": "65bfc244-d8ff-4b55-fa1f-15217d252ace"
      },
      "outputs": [
        {
          "output_type": "stream",
          "name": "stdout",
          "text": [
            "enter item1 price: 10\n",
            "enter item1 quantity: 2\n",
            "enter item2 price: 30\n",
            "enter item2 quantity: 2\n",
            "80\n"
          ]
        }
      ],
      "source": [
        "a = int(input('enter item1 price: '))\n",
        "b = int(input('enter item1 quantity: '))\n",
        "c = int(input('enter item2 price: '))\n",
        "d = int(input('enter item2 quantity: '))\n",
        "t = a*b+c*d\n",
        "print(t)"
      ]
    },
    {
      "cell_type": "markdown",
      "source": [
        "2"
      ],
      "metadata": {
        "id": "RXM4oZ_d4Eod"
      }
    },
    {
      "cell_type": "code",
      "source": [
        "c = int(input('enter temp of celsius'))\n",
        "f = (c*9/5)+32\n",
        "print(f)"
      ],
      "metadata": {
        "colab": {
          "base_uri": "https://localhost:8080/"
        },
        "id": "2OvIlGK9bIvE",
        "outputId": "81f6c5b2-2594-480d-e764-b9ab9f35f34b"
      },
      "execution_count": null,
      "outputs": [
        {
          "output_type": "stream",
          "name": "stdout",
          "text": [
            "enter temp of celsius30\n",
            "86.0\n"
          ]
        }
      ]
    },
    {
      "cell_type": "markdown",
      "source": [
        "3"
      ],
      "metadata": {
        "id": "bAY83UM64Grc"
      }
    },
    {
      "cell_type": "code",
      "source": [
        "a = float(input(\"enter the basic salary: \"))\n",
        "n = a+(0.20*a)+(0.10*a)\n",
        "print(\"nt salary: \",n)"
      ],
      "metadata": {
        "colab": {
          "base_uri": "https://localhost:8080/"
        },
        "id": "YsoNI4Sjdyd3",
        "outputId": "163d8b75-91ba-46d6-f5e5-f734a66bf5ff"
      },
      "execution_count": null,
      "outputs": [
        {
          "output_type": "stream",
          "name": "stdout",
          "text": [
            "enter the basic salary: 20000\n",
            "nt salary:  26000.0\n"
          ]
        }
      ]
    },
    {
      "cell_type": "markdown",
      "source": [
        "5"
      ],
      "metadata": {
        "id": "yFHaW5Eq4Nls"
      }
    },
    {
      "cell_type": "code",
      "metadata": {
        "colab": {
          "base_uri": "https://localhost:8080/"
        },
        "id": "1jJlNXBhyGhi",
        "outputId": "297d2e1c-f58e-4598-9dc7-1e6ce16b6537"
      },
      "source": [
        "total_minutes = int(input(\"Enter total minutes: \"))\n",
        "\n",
        "hours = total_minutes // 60\n",
        "minutes = total_minutes % 60\n",
        "\n",
        "print(f\"{hours} hours and {minutes} minutes\")"
      ],
      "execution_count": 1,
      "outputs": [
        {
          "output_type": "stream",
          "name": "stdout",
          "text": [
            "Enter total minutes: 120\n",
            "2 hours and 0 minutes\n"
          ]
        }
      ]
    },
    {
      "cell_type": "markdown",
      "source": [
        "6"
      ],
      "metadata": {
        "id": "sQabhg_w4WJc"
      }
    },
    {
      "cell_type": "code",
      "source": [
        "weight = float(input (\"enter weight in kg\"))\n",
        "height = float (input (\"enter the height in m\"))\n",
        "bmi = weight / (height * height)\n",
        "\n",
        "print(\"bmi=\", bmi)"
      ],
      "metadata": {
        "colab": {
          "base_uri": "https://localhost:8080/"
        },
        "id": "lWR6VjuYyIZz",
        "outputId": "72a1c9bf-b8bf-40d1-e95d-d5cfed6b2342"
      },
      "execution_count": 11,
      "outputs": [
        {
          "output_type": "stream",
          "name": "stdout",
          "text": [
            "enter weight in kg60\n",
            "enter the height in m1.65\n",
            "bmi= 22.03856749311295\n"
          ]
        }
      ]
    },
    {
      "cell_type": "markdown",
      "source": [
        "4"
      ],
      "metadata": {
        "id": "0zH27D-m7T0R"
      }
    },
    {
      "cell_type": "code",
      "source": [
        "p = float(input(\"enter the principal amount:\"))\n",
        "r = float(input(\"enter the annual interest rate (in percentage):\"))\n",
        "t = float (input(\"enter the time (in years):\"))\n",
        "#calculate simple interest\n",
        "si = (p*r*t)/100\n",
        "print (\"simple interest = \", si)\n"
      ],
      "metadata": {
        "colab": {
          "base_uri": "https://localhost:8080/"
        },
        "id": "-e7Da9jP0u2o",
        "outputId": "1d3c5bd7-f0f7-4d36-81e9-307cd8ab3f5f"
      },
      "execution_count": 5,
      "outputs": [
        {
          "output_type": "stream",
          "name": "stdout",
          "text": [
            "enter the principal amount:100000\n",
            "enter the annual interest rate (in percentage):5\n",
            "enter the time (in years):2\n",
            "simple interest =  10000.0\n"
          ]
        }
      ]
    },
    {
      "cell_type": "markdown",
      "source": [
        "7"
      ],
      "metadata": {
        "id": "Z6ITVvQ1DlJQ"
      }
    },
    {
      "cell_type": "code",
      "source": [
        "a = float(input(\"enter the original price\"))\n",
        "b = float (input(\"enter the discounted price\"))\n",
        "d =a-(a*b)/100\n",
        "print(d)"
      ],
      "metadata": {
        "colab": {
          "base_uri": "https://localhost:8080/"
        },
        "id": "vU8zfUUY7ITp",
        "outputId": "182cb306-d1ae-4a39-bee2-8edd61328222"
      },
      "execution_count": 17,
      "outputs": [
        {
          "output_type": "stream",
          "name": "stdout",
          "text": [
            "enter the original price1200\n",
            "enter the discounted price10\n",
            "1080.0\n"
          ]
        }
      ]
    },
    {
      "cell_type": "markdown",
      "source": [
        "8"
      ],
      "metadata": {
        "id": "I3mPVJJQDdKx"
      }
    },
    {
      "cell_type": "code",
      "source": [
        "import math\n",
        "\n",
        "a = float(input(\"Enter the length of side a: \"))\n",
        "b = float(input(\"Enter the length of side b: \"))\n",
        "c = float(input(\"Enter the length of side c: \"))\n",
        "\n",
        "s = (a + b + c) / 2\n",
        "area = math.sqrt(s * (s - a) * (s - b) * (s - c))\n",
        "\n",
        "print(f\"The area of the triangle is: {area}\")"
      ],
      "metadata": {
        "colab": {
          "base_uri": "https://localhost:8080/"
        },
        "id": "ZJuyRpEB7oyX",
        "outputId": "9f06d933-72e1-4f57-aa9c-75da58af0fa9"
      },
      "execution_count": 19,
      "outputs": [
        {
          "output_type": "stream",
          "name": "stdout",
          "text": [
            "Enter the length of side a: 5\n",
            "Enter the length of side b: 6\n",
            "Enter the length of side c: 7\n",
            "The area of the triangle is: 14.696938456699069\n"
          ]
        }
      ]
    },
    {
      "cell_type": "markdown",
      "source": [
        "9"
      ],
      "metadata": {
        "id": "46SCjQsHG6q9"
      }
    },
    {
      "cell_type": "code",
      "source": [
        "a=float(input(\"Enter wall length\"))\n",
        "b=float(input(\"Enter wall height\"))\n",
        "t=a*b\n",
        "w=2*(1.5*1.2)\n",
        "p=t-w\n",
        "print(\"total area painted\",p)\n",
        "c=p*25\n",
        "print(\"total cost\",c)"
      ],
      "metadata": {
        "colab": {
          "base_uri": "https://localhost:8080/"
        },
        "id": "iNNNZCGvDYVX",
        "outputId": "e5917fdc-2231-40a4-fcd9-e1e5b8f8e263"
      },
      "execution_count": 23,
      "outputs": [
        {
          "output_type": "stream",
          "name": "stdout",
          "text": [
            "Enter wall length12\n",
            "Enter wall height8\n",
            "total area painted 92.4\n",
            "total cost 2310.0\n"
          ]
        }
      ]
    },
    {
      "cell_type": "markdown",
      "source": [
        "10"
      ],
      "metadata": {
        "id": "RwsIII4NG9rM"
      }
    },
    {
      "cell_type": "code",
      "source": [
        "a=float(input(\"Enter number of units consumed\"))\n",
        "b=(a*5.2)+100\n",
        "print(b)"
      ],
      "metadata": {
        "colab": {
          "base_uri": "https://localhost:8080/"
        },
        "id": "2qLGlrPiGrZL",
        "outputId": "61f80331-0f83-4f6b-9c58-f2c629a5f9ae"
      },
      "execution_count": 24,
      "outputs": [
        {
          "output_type": "stream",
          "name": "stdout",
          "text": [
            "Enter number of units consumed250\n",
            "1400.0\n"
          ]
        }
      ]
    }
  ]
}